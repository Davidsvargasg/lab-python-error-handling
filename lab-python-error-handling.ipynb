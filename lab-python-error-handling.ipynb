{
 "cells": [
  {
   "cell_type": "markdown",
   "id": "25d7736c-ba17-4aff-b6bb-66eba20fbf4e",
   "metadata": {},
   "source": [
    "# Lab | Error Handling"
   ]
  },
  {
   "cell_type": "markdown",
   "id": "bc99b386-7508-47a0-bcdb-d969deaf6c8b",
   "metadata": {},
   "source": [
    "## Exercise: Error Handling for Managing Customer Orders\n",
    "\n",
    "The implementation of your code for managing customer orders assumes that the user will always enter a valid input. \n",
    "\n",
    "For example, we could modify the `initialize_inventory` function to include error handling.\n",
    "   - If the user enters an invalid quantity (e.g., a negative value or a non-numeric value), display an error message and ask them to re-enter the quantity for that product.\n",
    "   - Use a try-except block to handle the error and continue prompting the user until a valid quantity is entered.\n",
    "\n",
    "```python\n",
    "# Step 1: Define the function for initializing the inventory with error handling\n",
    "def initialize_inventory(products):\n",
    "    inventory = {}\n",
    "    for product in products:\n",
    "        valid_quantity = False\n",
    "        while not valid_quantity:\n",
    "            try:\n",
    "                quantity = int(input(f\"Enter the quantity of {product}s available: \"))\n",
    "                if quantity < 0:\n",
    "                    raise ValueError(\"Invalid quantity! Please enter a non-negative value.\")\n",
    "                valid_quantity = True\n",
    "            except ValueError as error:\n",
    "                print(f\"Error: {error}\")\n",
    "        inventory[product] = quantity\n",
    "    return inventory\n",
    "\n",
    "# Or, in another way:\n",
    "\n",
    "def initialize_inventory(products):\n",
    "    inventory = {}\n",
    "    for product in products:\n",
    "        valid_input = False\n",
    "        while not valid_input:\n",
    "            try:\n",
    "                quantity = int(input(f\"Enter the quantity of {product}s available: \"))\n",
    "                if quantity >= 0:\n",
    "                    inventory[product] = quantity\n",
    "                    valid_input = True\n",
    "                else:\n",
    "                    print(\"Quantity cannot be negative. Please enter a valid quantity.\")\n",
    "            except ValueError:\n",
    "                print(\"Invalid input. Please enter a valid quantity.\")\n",
    "    return inventory\n",
    "```\n",
    "\n",
    "Let's enhance your code by implementing error handling to handle invalid inputs.\n",
    "\n",
    "Follow the steps below to complete the exercise:\n",
    "\n",
    "2. Modify the `calculate_total_price` function to include error handling.\n",
    "   - If the user enters an invalid price (e.g., a negative value or a non-numeric value), display an error message and ask them to re-enter the price for that product.\n",
    "   - Use a try-except block to handle the error and continue prompting the user until a valid price is entered.\n",
    "\n",
    "3. Modify the `get_customer_orders` function to include error handling.\n",
    "   - If the user enters an invalid number of orders (e.g., a negative value or a non-numeric value), display an error message and ask them to re-enter the number of orders.\n",
    "   - If the user enters an invalid product name (e.g., a product name that is not in the inventory), or that doesn't have stock available, display an error message and ask them to re-enter the product name. *Hint: you will need to pass inventory as a parameter*\n",
    "   - Use a try-except block to handle the error and continue prompting the user until a valid product name is entered.\n",
    "\n",
    "4. Test your code by running the program and deliberately entering invalid quantities and product names. Make sure the error handling mechanism works as expected.\n"
   ]
  },
  {
   "cell_type": "code",
   "execution_count": 4,
   "id": "5409fb8c",
   "metadata": {},
   "outputs": [],
   "source": [
    "def calculate_total_price(order):\n",
    "    total_price = 5\n",
    "\n",
    "    for item in order:\n",
    "        while True:\n",
    "            try:\n",
    "                # Check if price is a valid number and non-negative\n",
    "                if isinstance(item['price'], (int, float)) and item['price'] >= 0:\n",
    "                    total_price += item['quantity'] * item['price']\n",
    "                    break\n",
    "                else:\n",
    "                    raise ValueError(\"Invalid price\")\n",
    "            except ValueError:\n",
    "                print(f\"Error: Invalid price for item '{item['item']}'. Please re-enter the price.\")\n",
    "                try:\n",
    "                    item['price'] = float(input(f\"Enter a valid price for {item['item']}: \"))\n",
    "                except ValueError:\n",
    "                    print(\"Please enter a numeric value.\")\n",
    "\n",
    "    return total_price"
   ]
  },
  {
   "cell_type": "code",
   "execution_count": 5,
   "id": "2bd38ffe",
   "metadata": {},
   "outputs": [],
   "source": [
    "products = [\"t-shirt\", \"mug\", \"hat\", \"book\", \"keychain\"]"
   ]
  },
  {
   "cell_type": "code",
   "execution_count": 6,
   "id": "4fac74d2",
   "metadata": {},
   "outputs": [
    {
     "name": "stdout",
     "output_type": "stream",
     "text": [
      "Invalid input. Please enter a valid quantity.\n"
     ]
    },
    {
     "data": {
      "text/plain": [
       "{'t-shirt': 6, 'mug': 4, 'hat': 9, 'book': 5, 'keychain': 0}"
      ]
     },
     "execution_count": 6,
     "metadata": {},
     "output_type": "execute_result"
    }
   ],
   "source": [
    "#1 \n",
    "\n",
    "def initialize_inventory(products):\n",
    "    inventory = {}\n",
    "    for product in products:\n",
    "        valid_input = False\n",
    "        while not valid_input:\n",
    "            try:\n",
    "                quantity = int(input(f\"Enter the quantity of {product}s available: \"))\n",
    "                if quantity >= 0:\n",
    "                    inventory[product] = quantity\n",
    "                    valid_input = True\n",
    "                else:\n",
    "                    print(\"Quantity cannot be negative. Please enter a valid quantity.\")\n",
    "            except ValueError:\n",
    "                print(\"Invalid input. Please enter a valid quantity.\")\n",
    "    return inventory\n",
    "\n",
    "initialize_inventory (products)"
   ]
  },
  {
   "cell_type": "code",
   "execution_count": 13,
   "id": "7e0b643c",
   "metadata": {},
   "outputs": [
    {
     "name": "stdout",
     "output_type": "stream",
     "text": [
      "Total price of all products: 10.0\n"
     ]
    }
   ],
   "source": [
    "#2\n",
    "\n",
    "products = [\"t-shirt\", \"mug\", \"hat\", \"book\", \"keychain\"]\n",
    "\n",
    "def calculate_total_price():\n",
    "    products = [\"t-shirt\", \"mug\", \"hat\", \"book\", \"keychain\"]\n",
    "    total_price = 0\n",
    "    \n",
    "    for product in products:\n",
    "        while True:\n",
    "            product_price = input(f\"Enter the price of the {product}: \")\n",
    "            \n",
    "            try:\n",
    "                price = float(product_price)\n",
    "                if price < 0:\n",
    "                    raise ValueError(\"The price cannot be negative.\")\n",
    "            except ValueError as e:\n",
    "                print(f\"Invalid input: {e}. Please enter a valid price for the {product}.\")\n",
    "                continue\n",
    "            \n",
    "            total_price += price\n",
    "            break  \n",
    "    \n",
    "    print(f\"Total price of all products: {total_price}\")\n",
    "\n",
    "\n",
    "calculate_total_price()"
   ]
  },
  {
   "cell_type": "code",
   "execution_count": 8,
   "id": "0261de15",
   "metadata": {},
   "outputs": [
    {
     "name": "stdout",
     "output_type": "stream",
     "text": [
      "Customer Orders: {'hat': 1, 'mug': 1}\n"
     ]
    }
   ],
   "source": [
    "#3\n",
    "\n",
    "def get_customer_orders(inventory):\n",
    "    orders = {}\n",
    "    \n",
    "    while True:\n",
    "        num_orders = input(\"Enter the number of orders: \")\n",
    "        \n",
    "        try:\n",
    "            num_orders = int(num_orders)\n",
    "            if num_orders < 0:\n",
    "                raise ValueError(\"The number of orders cannot be negative.\")\n",
    "            break\n",
    "        except ValueError as e:\n",
    "            print(f\"Invalid input: {e}. Please enter a valid number of orders.\")\n",
    "    \n",
    "    for i in range(num_orders):\n",
    "        while True:\n",
    "            product_name = input(f\"Enter the name of product #{i+1}: \").strip().lower()\n",
    "            \n",
    "            if product_name not in inventory:\n",
    "                print(\"Invalid product name. Please enter a product name from the inventory.\")\n",
    "                continue\n",
    "            \n",
    "            if inventory[product_name] <= 0:\n",
    "                print(f\"Sorry, {product_name} is out of stock. Please choose another product.\")\n",
    "                continue\n",
    "            \n",
    "            orders[product_name] = orders.get(product_name, 0) + 1\n",
    "            inventory[product_name] -= 1\n",
    "            break\n",
    "    \n",
    "    return orders\n",
    "\n",
    "\n",
    "inventory = {\n",
    "    \"t-shirt\": 6,\n",
    "    \"mug\": 4, \n",
    "    \"hat\": 9,\n",
    "    \"book\": 5,\n",
    "    \"keychain\": 0\n",
    "}\n",
    "\n",
    "orders = get_customer_orders(inventory)\n",
    "print(\"Customer Orders:\", orders)\n"
   ]
  },
  {
   "cell_type": "code",
   "execution_count": 14,
   "id": "a927634c",
   "metadata": {},
   "outputs": [
    {
     "name": "stdout",
     "output_type": "stream",
     "text": [
      "Total price of all products: 22.0\n"
     ]
    },
    {
     "data": {
      "text/plain": [
       "{'hat': 1}"
      ]
     },
     "execution_count": 14,
     "metadata": {},
     "output_type": "execute_result"
    }
   ],
   "source": [
    "#4\n",
    "\n",
    "initialize_inventory(products)\n",
    "calculate_total_price()\n",
    "get_customer_orders(inventory)\n",
    "\n"
   ]
  }
 ],
 "metadata": {
  "kernelspec": {
   "display_name": "Python 3 (ipykernel)",
   "language": "python",
   "name": "python3"
  },
  "language_info": {
   "codemirror_mode": {
    "name": "ipython",
    "version": 3
   },
   "file_extension": ".py",
   "mimetype": "text/x-python",
   "name": "python",
   "nbconvert_exporter": "python",
   "pygments_lexer": "ipython3",
   "version": "3.12.4"
  }
 },
 "nbformat": 4,
 "nbformat_minor": 5
}
